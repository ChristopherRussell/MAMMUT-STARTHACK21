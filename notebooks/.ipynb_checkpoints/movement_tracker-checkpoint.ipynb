{
 "cells": [
  {
   "cell_type": "code",
   "execution_count": 16,
   "id": "indian-somerset",
   "metadata": {},
   "outputs": [],
   "source": [
    "import h5py\n",
    "import numpy as np\n",
    "import pandas as pd\n",
    "import matplotlib.pyplot as plt\n",
    "from matplotlib.pyplot import figure\n",
    "import math\n",
    "import matplotlib.animation as ani\n",
    "import cv2\n",
    "from datetime import datetime\n",
    "\n",
    "from __future__ import print_function\n",
    "import argparse"
   ]
  },
  {
   "cell_type": "code",
   "execution_count": 17,
   "id": "middle-position",
   "metadata": {},
   "outputs": [],
   "source": [
    "moves_df = pd.read_csv(\"../data/overhang/bae8f52c-407e-5f89-a8e3-61fcca51ee0a_moves.csv\")"
   ]
  },
  {
   "cell_type": "code",
   "execution_count": 18,
   "id": "negative-backup",
   "metadata": {},
   "outputs": [
    {
     "data": {
      "text/html": [
       "<div>\n",
       "<style scoped>\n",
       "    .dataframe tbody tr th:only-of-type {\n",
       "        vertical-align: middle;\n",
       "    }\n",
       "\n",
       "    .dataframe tbody tr th {\n",
       "        vertical-align: top;\n",
       "    }\n",
       "\n",
       "    .dataframe thead th {\n",
       "        text-align: right;\n",
       "    }\n",
       "</style>\n",
       "<table border=\"1\" class=\"dataframe\">\n",
       "  <thead>\n",
       "    <tr style=\"text-align: right;\">\n",
       "      <th></th>\n",
       "      <th>hand</th>\n",
       "      <th>climb_index</th>\n",
       "      <th>move_index</th>\n",
       "      <th>start_time</th>\n",
       "      <th>end_time</th>\n",
       "      <th>climb</th>\n",
       "      <th>on_hold</th>\n",
       "      <th>duration</th>\n",
       "    </tr>\n",
       "  </thead>\n",
       "  <tbody>\n",
       "    <tr>\n",
       "      <th>0</th>\n",
       "      <td>left</td>\n",
       "      <td>0</td>\n",
       "      <td>0</td>\n",
       "      <td>2021-02-25 13:45:57.460000038+00:00</td>\n",
       "      <td>2021-02-25 13:45:58.559999943+00:00</td>\n",
       "      <td>0</td>\n",
       "      <td>0.44</td>\n",
       "      <td>1.1</td>\n",
       "    </tr>\n",
       "    <tr>\n",
       "      <th>1</th>\n",
       "      <td>right</td>\n",
       "      <td>0</td>\n",
       "      <td>0</td>\n",
       "      <td>2021-02-25 13:46:01.960000038+00:00</td>\n",
       "      <td>2021-02-25 13:46:02.960000038+00:00</td>\n",
       "      <td>0</td>\n",
       "      <td>4.94</td>\n",
       "      <td>1.0</td>\n",
       "    </tr>\n",
       "    <tr>\n",
       "      <th>2</th>\n",
       "      <td>left</td>\n",
       "      <td>0</td>\n",
       "      <td>1</td>\n",
       "      <td>2021-02-25 13:46:04.559999943+00:00</td>\n",
       "      <td>2021-02-25 13:46:05.859999895+00:00</td>\n",
       "      <td>0</td>\n",
       "      <td>6.00</td>\n",
       "      <td>1.3</td>\n",
       "    </tr>\n",
       "    <tr>\n",
       "      <th>3</th>\n",
       "      <td>right</td>\n",
       "      <td>0</td>\n",
       "      <td>1</td>\n",
       "      <td>2021-02-25 13:46:06.559999943+00:00</td>\n",
       "      <td>2021-02-25 13:46:07.559999943+00:00</td>\n",
       "      <td>0</td>\n",
       "      <td>3.60</td>\n",
       "      <td>1.0</td>\n",
       "    </tr>\n",
       "    <tr>\n",
       "      <th>4</th>\n",
       "      <td>left</td>\n",
       "      <td>0</td>\n",
       "      <td>2</td>\n",
       "      <td>2021-02-25 13:46:08.660000086+00:00</td>\n",
       "      <td>2021-02-25 13:46:09.559999943+00:00</td>\n",
       "      <td>0</td>\n",
       "      <td>2.80</td>\n",
       "      <td>0.9</td>\n",
       "    </tr>\n",
       "  </tbody>\n",
       "</table>\n",
       "</div>"
      ],
      "text/plain": [
       "    hand  climb_index  move_index                           start_time  \\\n",
       "0   left            0           0  2021-02-25 13:45:57.460000038+00:00   \n",
       "1  right            0           0  2021-02-25 13:46:01.960000038+00:00   \n",
       "2   left            0           1  2021-02-25 13:46:04.559999943+00:00   \n",
       "3  right            0           1  2021-02-25 13:46:06.559999943+00:00   \n",
       "4   left            0           2  2021-02-25 13:46:08.660000086+00:00   \n",
       "\n",
       "                              end_time  climb  on_hold  duration  \n",
       "0  2021-02-25 13:45:58.559999943+00:00      0     0.44       1.1  \n",
       "1  2021-02-25 13:46:02.960000038+00:00      0     4.94       1.0  \n",
       "2  2021-02-25 13:46:05.859999895+00:00      0     6.00       1.3  \n",
       "3  2021-02-25 13:46:07.559999943+00:00      0     3.60       1.0  \n",
       "4  2021-02-25 13:46:09.559999943+00:00      0     2.80       0.9  "
      ]
     },
     "execution_count": 18,
     "metadata": {},
     "output_type": "execute_result"
    }
   ],
   "source": [
    "moves_df.head()"
   ]
  },
  {
   "cell_type": "code",
   "execution_count": 19,
   "id": "raising-iraqi",
   "metadata": {},
   "outputs": [],
   "source": [
    "moves_df[['start_time', 'end_time']] = moves_df[['start_time', 'end_time']].apply(pd.to_datetime)"
   ]
  },
  {
   "cell_type": "code",
   "execution_count": 20,
   "id": "tender-distance",
   "metadata": {},
   "outputs": [
    {
     "name": "stdout",
     "output_type": "stream",
     "text": [
      "29.99390600005078\n"
     ]
    }
   ],
   "source": [
    "cap = cv2.VideoCapture(\"../data/overhang/Overhang (vertical + horizontal).mp4\")\n",
    "\n",
    "ret, frame1 = cap.read()\n",
    "ret, frame2 = cap.read()\n",
    "\n",
    "fps = cap.get(cv2.cv2.CAP_PROP_FPS)\n",
    "print(fps)"
   ]
  },
  {
   "cell_type": "code",
   "execution_count": 21,
   "id": "thick-intelligence",
   "metadata": {},
   "outputs": [],
   "source": [
    "def time_to_frame(end_time):\n",
    "    t_step = end_time.replace(tzinfo=None)  - moves_df.start_time[0].replace(tzinfo=None) \n",
    "    frame_number = t_step.total_seconds() * fps\n",
    "    return frame_number"
   ]
  },
  {
   "cell_type": "code",
   "execution_count": 22,
   "id": "integrated-suffering",
   "metadata": {},
   "outputs": [],
   "source": [
    "moves_df['frame_number'] = moves_df['end_time'].apply(time_to_frame)"
   ]
  },
  {
   "cell_type": "code",
   "execution_count": 23,
   "id": "effective-demand",
   "metadata": {},
   "outputs": [],
   "source": [
    "# We need to set resolutions.\n",
    "# so, convert them from float to integer.\n",
    "width= int(cap.get(cv2.CAP_PROP_FRAME_WIDTH))\n",
    "height= int(cap.get(cv2.CAP_PROP_FRAME_HEIGHT))\n",
    "\n",
    "\n",
    "# Below VideoWriter object will create \n",
    "# a frame of above defined The output  \n",
    "# is stored in 'filename.avi' file. \n",
    "result= cv2.VideoWriter('moves_tracker2.mp4', cv2.VideoWriter_fourcc(*'MP4V'), 30, (width,height))\n",
    "\n",
    "frame_counter = 0\n",
    "# Read the video\n",
    "while(cap.isOpened()):\n",
    "    # Subtract current frame from the previous \n",
    "    diff = cv2.absdiff(frame1, frame2)\n",
    "    \n",
    "    # Convert to grayscale\n",
    "    gray = cv2.cvtColor(diff, cv2.COLOR_BGR2GRAY)\n",
    "    canny_high = cv2.Canny(gray, 250, 500)\n",
    "    _, thresh = cv2.threshold(canny_high, 20, 255, cv2.THRESH_BINARY+cv2.THRESH_OTSU)\n",
    "    dilated = cv2.dilate(thresh, None, iterations=10)\n",
    "    contours, _ = cv2.findContours(dilated, cv2.RETR_TREE, cv2.CHAIN_APPROX_SIMPLE)\n",
    "    \n",
    "    for contour in contours:\n",
    "        (x, y, w, h) = cv2.boundingRect(contour)\n",
    "        \n",
    "        if cv2.contourArea(contour) < 1000:\n",
    "            continue\n",
    "            \n",
    "        #cv2.rectangle(frame1, (x, y), (x+w, y+h), (0, 255, 0), 2)\n",
    "        cv2.putText(frame1, \"Status: {}\".format('Moving'), (10, 20), cv2.FONT_HERSHEY_SIMPLEX, 0.5, (255, 255, 255), 1, cv2.LINE_4)\n",
    "    \n",
    "    query_df = moves_df[moves_df['frame_number'] <= frame_counter]\n",
    "    if query_df.shape[0] != 0:\n",
    "        cv2.putText(frame1, \"Total Moves {}\".format(query_df.move_index.values[-1]), (10, 50), cv2.FONT_HERSHEY_SIMPLEX, 0.5, (255, 255, 255), 1)\n",
    "    \n",
    "    \n",
    "    # Stacking the images to print them together\n",
    "    # For comparison\n",
    "    #images = np.hstack((gray, dilated1, dilated2))\n",
    "    result.write(frame1)\n",
    "    cv2.imshow('frame',frame1)\n",
    "    frame1 = frame2\n",
    "    ret, frame2 = cap.read()\n",
    "    frame_counter += 1\n",
    "    \n",
    "    # Press Q on keyboard to  exit\n",
    "    if cv2.waitKey(25) & 0xFF == ord('q'):\n",
    "        break\n",
    "\n",
    "cap.release()\n",
    "result.release()\n",
    "cv2.destroyAllWindows()"
   ]
  },
  {
   "cell_type": "code",
   "execution_count": null,
   "id": "acquired-bottle",
   "metadata": {},
   "outputs": [],
   "source": []
  },
  {
   "cell_type": "code",
   "execution_count": null,
   "id": "returning-subscriber",
   "metadata": {},
   "outputs": [],
   "source": []
  },
  {
   "cell_type": "code",
   "execution_count": null,
   "id": "devoted-riverside",
   "metadata": {},
   "outputs": [],
   "source": []
  },
  {
   "cell_type": "code",
   "execution_count": null,
   "id": "sunset-naples",
   "metadata": {},
   "outputs": [],
   "source": []
  },
  {
   "cell_type": "code",
   "execution_count": null,
   "id": "disabled-newfoundland",
   "metadata": {},
   "outputs": [],
   "source": []
  }
 ],
 "metadata": {
  "kernelspec": {
   "display_name": "starthack",
   "language": "python",
   "name": "starthack"
  },
  "language_info": {
   "codemirror_mode": {
    "name": "ipython",
    "version": 3
   },
   "file_extension": ".py",
   "mimetype": "text/x-python",
   "name": "python",
   "nbconvert_exporter": "python",
   "pygments_lexer": "ipython3",
   "version": "3.8.8"
  }
 },
 "nbformat": 4,
 "nbformat_minor": 5
}

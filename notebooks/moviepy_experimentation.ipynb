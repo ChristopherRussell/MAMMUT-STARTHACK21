{
 "cells": [
  {
   "cell_type": "code",
   "execution_count": 18,
   "id": "medical-enforcement",
   "metadata": {},
   "outputs": [],
   "source": [
    "from moviepy.editor import *"
   ]
  },
  {
   "cell_type": "code",
   "execution_count": 19,
   "id": "smooth-agreement",
   "metadata": {},
   "outputs": [],
   "source": [
    "clip = VideoFileClip(\"../data/overhang/Overhang (vertical + horizontal).mp4\").subclip(0,20)\n",
    "clip2 = VideoFileClip(\"output.gif\").subclip(0,20)"
   ]
  },
  {
   "cell_type": "code",
   "execution_count": 20,
   "id": "manufactured-distribution",
   "metadata": {},
   "outputs": [],
   "source": [
    "clip2 = clip2.resize(0.4)"
   ]
  },
  {
   "cell_type": "code",
   "execution_count": 21,
   "id": "sound-shower",
   "metadata": {},
   "outputs": [],
   "source": [
    "clip2 = clip2.on_color(col_opacity=0)"
   ]
  },
  {
   "cell_type": "code",
   "execution_count": 22,
   "id": "legitimate-condition",
   "metadata": {},
   "outputs": [],
   "source": [
    "# Generate a text clip. You can customize the font, color, etc.\n",
    "txt_clip = TextClip(\"BClimb Test Clip\",fontsize=24,color='white')"
   ]
  },
  {
   "cell_type": "code",
   "execution_count": 29,
   "id": "judicial-breach",
   "metadata": {},
   "outputs": [],
   "source": [
    "# Say that you want it to appear 10s at the center of the screen\n",
    "txt_clip = txt_clip.set_pos((\"center\",\"center\")).set_duration(20)"
   ]
  },
  {
   "cell_type": "code",
   "execution_count": 30,
   "id": "central-lobby",
   "metadata": {},
   "outputs": [],
   "source": [
    "# Overlay the text clip on the first video clip\n",
    "video = CompositeVideoClip([clip, clip2.set_pos((\"right\",\"top\")), txt_clip])"
   ]
  },
  {
   "cell_type": "code",
   "execution_count": 31,
   "id": "basic-presence",
   "metadata": {},
   "outputs": [
    {
     "name": "stderr",
     "output_type": "stream",
     "text": [
      "t:   0%|          | 1/600 [00:10<1:41:52, 10.20s/it, now=None]\n",
      "chunk:   0%|          | 0/442 [00:00<?, ?it/s, now=None]\u001b[A\n",
      "chunk:  40%|███▉      | 176/442 [00:00<00:00, 1757.19it/s, now=None]\u001b[A"
     ]
    },
    {
     "name": "stdout",
     "output_type": "stream",
     "text": [
      "Moviepy - Building video test_overlay2.mp4.\n",
      "MoviePy - Writing audio in test_overlay2TEMP_MPY_wvf_snd.mp3\n"
     ]
    },
    {
     "name": "stderr",
     "output_type": "stream",
     "text": [
      "\n",
      "chunk:  95%|█████████▌| 421/442 [00:00<00:00, 2164.33it/s, now=None]\u001b[A\n",
      "t:   0%|          | 1/600 [00:10<1:44:09, 10.43s/it, now=None]      \u001b[A\n",
      "t:   0%|          | 0/600 [00:00<?, ?it/s, now=None]\u001b[A\n",
      "t:   3%|▎         | 20/600 [00:00<00:02, 194.00it/s, now=None]\u001b[A"
     ]
    },
    {
     "name": "stdout",
     "output_type": "stream",
     "text": [
      "MoviePy - Done.\n",
      "Moviepy - Writing video test_overlay2.mp4\n",
      "\n"
     ]
    },
    {
     "name": "stderr",
     "output_type": "stream",
     "text": [
      "\n",
      "t:   7%|▋         | 40/600 [00:00<00:02, 186.80it/s, now=None]\u001b[A\n",
      "t:  10%|▉         | 59/600 [00:00<00:03, 177.08it/s, now=None]\u001b[A\n",
      "t:  13%|█▎        | 77/600 [00:00<00:03, 171.64it/s, now=None]\u001b[A\n",
      "t:  16%|█▌        | 95/600 [00:00<00:02, 170.59it/s, now=None]\u001b[A\n",
      "t:  19%|█▉        | 113/600 [00:00<00:02, 168.23it/s, now=None]\u001b[A\n",
      "t:  22%|██▏       | 131/600 [00:00<00:02, 168.47it/s, now=None]\u001b[A\n",
      "t:  25%|██▍       | 148/600 [00:00<00:02, 168.56it/s, now=None]\u001b[A\n",
      "t:  28%|██▊       | 165/600 [00:00<00:02, 168.18it/s, now=None]\u001b[A\n",
      "t:  30%|███       | 183/600 [00:01<00:02, 169.18it/s, now=None]\u001b[A\n",
      "t:  33%|███▎      | 200/600 [00:01<00:02, 168.50it/s, now=None]\u001b[A\n",
      "t:  36%|███▌      | 217/600 [00:01<00:02, 167.98it/s, now=None]\u001b[A\n",
      "t:  39%|███▉      | 234/600 [00:01<00:02, 166.78it/s, now=None]\u001b[A\n",
      "t:  42%|████▏     | 251/600 [00:01<00:02, 165.11it/s, now=None]\u001b[A\n",
      "t:  45%|████▍     | 268/600 [00:01<00:02, 165.49it/s, now=None]\u001b[A\n",
      "t:  48%|████▊     | 285/600 [00:01<00:01, 165.55it/s, now=None]\u001b[A\n",
      "t:  50%|█████     | 302/600 [00:01<00:01, 166.27it/s, now=None]\u001b[A\n",
      "t:  53%|█████▎    | 319/600 [00:01<00:01, 166.41it/s, now=None]\u001b[A\n",
      "t:  56%|█████▌    | 337/600 [00:01<00:01, 169.48it/s, now=None]\u001b[A\n",
      "t:  59%|█████▉    | 354/600 [00:02<00:01, 168.04it/s, now=None]\u001b[A\n",
      "t:  62%|██████▏   | 371/600 [00:02<00:01, 166.64it/s, now=None]\u001b[A\n",
      "t:  65%|██████▍   | 389/600 [00:02<00:01, 167.81it/s, now=None]\u001b[A\n",
      "t:  68%|██████▊   | 406/600 [00:02<00:01, 167.76it/s, now=None]\u001b[A\n",
      "t:  70%|███████   | 423/600 [00:02<00:01, 167.32it/s, now=None]\u001b[A\n",
      "t:  74%|███████▎  | 441/600 [00:02<00:00, 170.17it/s, now=None]\u001b[A\n",
      "t:  76%|███████▋  | 459/600 [00:02<00:00, 169.09it/s, now=None]\u001b[A\n",
      "t:  79%|███████▉  | 476/600 [00:02<00:00, 168.92it/s, now=None]\u001b[A\n",
      "t:  82%|████████▏ | 494/600 [00:02<00:00, 169.81it/s, now=None]\u001b[A\n",
      "t:  85%|████████▌ | 512/600 [00:03<00:00, 171.23it/s, now=None]\u001b[A\n",
      "t:  88%|████████▊ | 530/600 [00:03<00:00, 169.05it/s, now=None]\u001b[A\n",
      "t:  91%|█████████ | 547/600 [00:03<00:00, 163.63it/s, now=None]\u001b[A\n",
      "t:  94%|█████████▍| 564/600 [00:03<00:00, 160.19it/s, now=None]\u001b[A\n",
      "t:  97%|█████████▋| 581/600 [00:03<00:00, 157.50it/s, now=None]\u001b[A\n",
      "t: 100%|█████████▉| 599/600 [00:03<00:00, 161.72it/s, now=None]\u001b[A\n",
      "t:   0%|          | 1/600 [00:14<2:20:44, 14.10s/it, now=None] \u001b[A"
     ]
    },
    {
     "name": "stdout",
     "output_type": "stream",
     "text": [
      "Moviepy - Done !\n",
      "Moviepy - video ready test_overlay2.mp4\n"
     ]
    }
   ],
   "source": [
    "# Write the result to a file (many options available !)\n",
    "video.write_videofile(\"test_overlay2.mp4\")"
   ]
  },
  {
   "cell_type": "code",
   "execution_count": null,
   "id": "scientific-liberia",
   "metadata": {},
   "outputs": [],
   "source": []
  },
  {
   "cell_type": "code",
   "execution_count": null,
   "id": "illegal-appendix",
   "metadata": {},
   "outputs": [],
   "source": []
  },
  {
   "cell_type": "markdown",
   "id": "narrative-birmingham",
   "metadata": {},
   "source": [
    "### Conversion to transparent background"
   ]
  },
  {
   "cell_type": "code",
   "execution_count": 35,
   "id": "adult-luxembourg",
   "metadata": {},
   "outputs": [],
   "source": [
    "from PIL import Image, ImageSequence\n",
    "import numpy as np\n",
    "\n",
    "im = Image.open(\"myfirstAnimation.gif\")\n",
    "\n",
    "frames = []\n",
    "# Each frame can have its own palette in a GIF, so we need to store\n",
    "# them individually\n",
    "fpalettes = []\n",
    "transparency = im.info['transparency']\n",
    "\n",
    "for frame in ImageSequence.Iterator(im):\n",
    "    frames.append(np.array(frame))\n",
    "    fpalettes.append(frame.getpalette())\n",
    "\n",
    "# ... Do something with the frames\n",
    "\n",
    "images = []\n",
    "\n",
    "for i, frame in enumerate(frames):\n",
    "    im = Image.fromarray(frame)\n",
    "    im.putpalette(fpalettes[i])\n",
    "    images.append(im)\n",
    "\n",
    "images[0].save(\n",
    "        \"output.gif\",\n",
    "        format=\"GIF\",\n",
    "        save_all=True,\n",
    "        loop=0,\n",
    "        append_images=images,\n",
    "        duration=40,\n",
    "        disposal=2,\n",
    "        transparency=transparency\n",
    ")"
   ]
  },
  {
   "cell_type": "code",
   "execution_count": 40,
   "id": "joined-jason",
   "metadata": {},
   "outputs": [],
   "source": [
    "def white_to_transparency(img):\n",
    "    x = np.asarray(img.convert('RGBA')).copy()\n",
    "\n",
    "    x[:, :, 3] = (255 * (x[:, :, :3] != 255).any(axis=2)).astype(np.uint8)\n",
    "\n",
    "    return Image.fromarray(x)"
   ]
  },
  {
   "cell_type": "code",
   "execution_count": 42,
   "id": "serious-match",
   "metadata": {},
   "outputs": [],
   "source": [
    "white_to_transparency(im).save(\n",
    "        \"output.gif\",\n",
    "        format=\"GIF\",\n",
    "        save_all=True,\n",
    "        loop=0,\n",
    "        append_images=images,\n",
    "        duration=40,\n",
    "        disposal=2,\n",
    "        transparency=transparency\n",
    ")"
   ]
  },
  {
   "cell_type": "code",
   "execution_count": null,
   "id": "unnecessary-daily",
   "metadata": {},
   "outputs": [],
   "source": []
  }
 ],
 "metadata": {
  "kernelspec": {
   "display_name": "starthack",
   "language": "python",
   "name": "starthack"
  },
  "language_info": {
   "codemirror_mode": {
    "name": "ipython",
    "version": 3
   },
   "file_extension": ".py",
   "mimetype": "text/x-python",
   "name": "python",
   "nbconvert_exporter": "python",
   "pygments_lexer": "ipython3",
   "version": "3.8.8"
  }
 },
 "nbformat": 4,
 "nbformat_minor": 5
}

{
 "cells": [
  {
   "cell_type": "code",
   "execution_count": 1,
   "id": "medical-enforcement",
   "metadata": {},
   "outputs": [],
   "source": [
    "from moviepy.editor import *"
   ]
  },
  {
   "cell_type": "code",
   "execution_count": 2,
   "id": "smooth-agreement",
   "metadata": {},
   "outputs": [],
   "source": [
    "clip = VideoFileClip(\"../data/overhang/Overhang (vertical + horizontal).mp4\").subclip(0,20)\n",
    "clip2 = VideoFileClip(\"output.gif\").subclip(0,20)"
   ]
  },
  {
   "cell_type": "code",
   "execution_count": 20,
   "id": "manufactured-distribution",
   "metadata": {},
   "outputs": [],
   "source": [
    "clip2 = clip2.resize(0.4)"
   ]
  },
  {
   "cell_type": "code",
   "execution_count": 21,
   "id": "sound-shower",
   "metadata": {},
   "outputs": [],
   "source": [
    "clip2 = clip2.on_color(col_opacity=0)"
   ]
  },
  {
   "cell_type": "code",
   "execution_count": 22,
   "id": "legitimate-condition",
   "metadata": {},
   "outputs": [],
   "source": [
    "# Generate a text clip. You can customize the font, color, etc.\n",
    "txt_clip = TextClip(\"BClimb Test Clip\",fontsize=24,color='white')"
   ]
  },
  {
   "cell_type": "code",
   "execution_count": 29,
   "id": "judicial-breach",
   "metadata": {},
   "outputs": [],
   "source": [
    "# Say that you want it to appear 10s at the center of the screen\n",
    "txt_clip = txt_clip.set_pos((\"center\",\"center\")).set_duration(20)"
   ]
  },
  {
   "cell_type": "code",
   "execution_count": 30,
   "id": "central-lobby",
   "metadata": {},
   "outputs": [],
   "source": [
    "# Overlay the text clip on the first video clip\n",
    "video = CompositeVideoClip([clip, clip2.set_pos((\"right\",\"top\")), txt_clip])"
   ]
  },
  {
   "cell_type": "code",
   "execution_count": 3,
   "id": "basic-presence",
   "metadata": {},
   "outputs": [
    {
     "name": "stderr",
     "output_type": "stream",
     "text": [
      "t:   0%|          | 0/600 [00:00<?, ?it/s, now=None]                "
     ]
    },
    {
     "name": "stdout",
     "output_type": "stream",
     "text": [
      "Moviepy - Building video test.mp4.\n",
      "MoviePy - Writing audio in testTEMP_MPY_wvf_snd.mp3\n",
      "MoviePy - Done.\n",
      "Moviepy - Writing video test.mp4\n",
      "\n"
     ]
    },
    {
     "name": "stderr",
     "output_type": "stream",
     "text": [
      "                                                               \r"
     ]
    },
    {
     "name": "stdout",
     "output_type": "stream",
     "text": [
      "Moviepy - Done !\n",
      "Moviepy - video ready test.mp4\n"
     ]
    }
   ],
   "source": [
    "# Write the result to a file (many options available !)\n",
    "clip.write_videofile(\"test.mp4\")"
   ]
  },
  {
   "cell_type": "code",
   "execution_count": null,
   "id": "scientific-liberia",
   "metadata": {},
   "outputs": [],
   "source": []
  },
  {
   "cell_type": "code",
   "execution_count": null,
   "id": "illegal-appendix",
   "metadata": {},
   "outputs": [],
   "source": []
  },
  {
   "cell_type": "markdown",
   "id": "narrative-birmingham",
   "metadata": {},
   "source": [
    "### Conversion to transparent background"
   ]
  },
  {
   "cell_type": "code",
   "execution_count": 35,
   "id": "adult-luxembourg",
   "metadata": {},
   "outputs": [],
   "source": [
    "from PIL import Image, ImageSequence\n",
    "import numpy as np\n",
    "\n",
    "im = Image.open(\"myfirstAnimation.gif\")\n",
    "\n",
    "frames = []\n",
    "# Each frame can have its own palette in a GIF, so we need to store\n",
    "# them individually\n",
    "fpalettes = []\n",
    "transparency = im.info['transparency']\n",
    "\n",
    "for frame in ImageSequence.Iterator(im):\n",
    "    frames.append(np.array(frame))\n",
    "    fpalettes.append(frame.getpalette())\n",
    "\n",
    "# ... Do something with the frames\n",
    "\n",
    "images = []\n",
    "\n",
    "for i, frame in enumerate(frames):\n",
    "    im = Image.fromarray(frame)\n",
    "    im.putpalette(fpalettes[i])\n",
    "    images.append(im)\n",
    "\n",
    "images[0].save(\n",
    "        \"output.gif\",\n",
    "        format=\"GIF\",\n",
    "        save_all=True,\n",
    "        loop=0,\n",
    "        append_images=images,\n",
    "        duration=40,\n",
    "        disposal=2,\n",
    "        transparency=transparency\n",
    ")"
   ]
  },
  {
   "cell_type": "code",
   "execution_count": 40,
   "id": "joined-jason",
   "metadata": {},
   "outputs": [],
   "source": [
    "def white_to_transparency(img):\n",
    "    x = np.asarray(img.convert('RGBA')).copy()\n",
    "\n",
    "    x[:, :, 3] = (255 * (x[:, :, :3] != 255).any(axis=2)).astype(np.uint8)\n",
    "\n",
    "    return Image.fromarray(x)"
   ]
  },
  {
   "cell_type": "code",
   "execution_count": 42,
   "id": "serious-match",
   "metadata": {},
   "outputs": [],
   "source": [
    "white_to_transparency(im).save(\n",
    "        \"output.gif\",\n",
    "        format=\"GIF\",\n",
    "        save_all=True,\n",
    "        loop=0,\n",
    "        append_images=images,\n",
    "        duration=40,\n",
    "        disposal=2,\n",
    "        transparency=transparency\n",
    ")"
   ]
  },
  {
   "cell_type": "code",
   "execution_count": null,
   "id": "unnecessary-daily",
   "metadata": {},
   "outputs": [],
   "source": []
  }
 ],
 "metadata": {
  "kernelspec": {
   "display_name": "starthack",
   "language": "python",
   "name": "starthack"
  },
  "language_info": {
   "codemirror_mode": {
    "name": "ipython",
    "version": 3
   },
   "file_extension": ".py",
   "mimetype": "text/x-python",
   "name": "python",
   "nbconvert_exporter": "python",
   "pygments_lexer": "ipython3",
   "version": "3.8.8"
  }
 },
 "nbformat": 4,
 "nbformat_minor": 5
}

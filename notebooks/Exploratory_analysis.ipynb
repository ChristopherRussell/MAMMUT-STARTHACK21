{
 "cells": [
  {
   "cell_type": "code",
   "execution_count": 4,
   "id": "peripheral-damage",
   "metadata": {},
   "outputs": [],
   "source": [
    "import pandas as pd\n",
    "import matplotlib.pyplot as plt\n",
    "import seaborn as sns\n",
    "\n",
    "import h5py"
   ]
  },
  {
   "cell_type": "code",
   "execution_count": 3,
   "id": "advance-hypothetical",
   "metadata": {},
   "outputs": [],
   "source": [
    "with pd.HDFStore('MAMMUT-STARTHACK21/data/overhang/bae8f52c-407e-5f89-a8e3-61fcca51ee0a.h5') as data:\n",
    "    for k in data.keys():\n",
    "        print(k)\n",
    "        "
   ]
  },
  {
   "cell_type": "code",
   "execution_count": 5,
   "id": "aging-works",
   "metadata": {},
   "outputs": [],
   "source": [
    "filename = 'MAMMUT-STARTHACK21/data/overhang/bae8f52c-407e-5f89-a8e3-61fcca51ee0a.h5'"
   ]
  },
  {
   "cell_type": "code",
   "execution_count": 6,
   "id": "centered-fleet",
   "metadata": {},
   "outputs": [
    {
     "name": "stdout",
     "output_type": "stream",
     "text": [
      "Keys: <KeysViewHDF5 ['climbs', 'meta', 'summary']>\n"
     ]
    }
   ],
   "source": [
    "with h5py.File(filename, \"r\") as f:\n",
    "    # List all groups\n",
    "    print(\"Keys: %s\" % f.keys())\n",
    "    a_group_key = list(f.keys())[0]\n",
    "\n",
    "    # Get the data\n",
    "    data = list(f[a_group_key])"
   ]
  },
  {
   "cell_type": "code",
   "execution_count": 10,
   "id": "foster-reader",
   "metadata": {},
   "outputs": [
    {
     "data": {
      "text/plain": [
       "['0', 'all']"
      ]
     },
     "execution_count": 10,
     "metadata": {},
     "output_type": "execute_result"
    }
   ],
   "source": [
    "data"
   ]
  },
  {
   "cell_type": "code",
   "execution_count": null,
   "id": "known-illustration",
   "metadata": {},
   "outputs": [],
   "source": []
  }
 ],
 "metadata": {
  "kernelspec": {
   "display_name": "starthack",
   "language": "python",
   "name": "starthack"
  },
  "language_info": {
   "codemirror_mode": {
    "name": "ipython",
    "version": 3
   },
   "file_extension": ".py",
   "mimetype": "text/x-python",
   "name": "python",
   "nbconvert_exporter": "python",
   "pygments_lexer": "ipython3",
   "version": "3.8.8"
  }
 },
 "nbformat": 4,
 "nbformat_minor": 5
}

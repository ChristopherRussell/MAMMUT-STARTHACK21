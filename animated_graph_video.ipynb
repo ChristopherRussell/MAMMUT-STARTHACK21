{
 "cells": [
  {
   "cell_type": "code",
   "execution_count": 10,
   "metadata": {},
   "outputs": [],
   "source": [
    "import h5py\n",
    "import numpy as np\n",
    "import matplotlib.pyplot as plt\n",
    "import matplotlib.animation as ani\n",
    "import math\n"
   ]
  },
  {
   "cell_type": "code",
   "execution_count": 13,
   "metadata": {},
   "outputs": [],
   "source": [
    "h5_file_name = './data/overhang/bae8f52c-407e-5f89-a8e3-61fcca51ee0a.h5'\n",
    "f = h5py.File(h5_file_name, 'r')"
   ]
  },
  {
   "cell_type": "code",
   "execution_count": 16,
   "metadata": {},
   "outputs": [
    {
     "data": {
      "text/plain": [
       "[<matplotlib.lines.Line2D at 0x7fa79476e2e0>]"
      ]
     },
     "execution_count": 16,
     "metadata": {},
     "output_type": "execute_result"
    },
    {
     "data": {
      "image/png": "[encoded data removed]",
      "text/plain": [
       "<Figure size 432x288 with 1 Axes>"
      ]
     },
     "metadata": {
      "needs_background": "light"
     },
     "output_type": "display_data"
    }
   ],
   "source": [
    "plt.plot(list(f['climbs/0/height_profile']))"
   ]
  },
  {
   "cell_type": "code",
   "execution_count": null,
   "metadata": {},
   "outputs": [],
   "source": [
    "def buildmebarchart(i=int):\n",
    "    p = plt.plot(height_profile[:(i*10)]) #note it only returns the dataset, up to the point i\n",
    "    plt.xlabel('Steps')\n",
    "    plt.ylabel('Height')"
   ]
  },
  {
   "cell_type": "code",
   "execution_count": 25,
   "metadata": {},
   "outputs": [
    {
     "data": {
      "image/png": "[encoded data removed]",
      "text/plain": [
       "<Figure size 432x288 with 1 Axes>"
      ]
     },
     "metadata": {
      "needs_background": "light"
     },
     "output_type": "display_data"
    }
   ],
   "source": [
    "\"\"\" MAKE ANIMATED GRAPH \"\"\"\n",
    "height_profile = f['climbs/0/height_profile']\n",
    "fig = plt.figure()\n",
    "animator = ani.FuncAnimation(fig, buildmebarchart, interval = 10, frames=math.floor(len(height_profile)/10))\n",
    "animator.save('myfirstAnimation.flv', savefig_kwargs={'transparent': True, 'facecolor': 'none'})\n",
    "plt.show()"
   ]
  },
  {
   "cell_type": "code",
   "execution_count": null,
   "metadata": {},
   "outputs": [],
   "source": []
  },
  {
   "cell_type": "code",
   "execution_count": 23,
   "metadata": {},
   "outputs": [
    {
     "name": "stderr",
     "output_type": "stream",
     "text": [
      "<ipython-input-23-45e5abcebc0a>:4: MatplotlibDeprecationWarning: savefig() got unexpected keyword argument \"frameon\" which is no longer supported as of 3.3 and will become an error two minor releases later\n",
      "  plt.savefig(\"drum_{n:02d}.png\".format(n=i), transparent=True,  frameon=False)\n",
      "<ipython-input-23-45e5abcebc0a>:4: MatplotlibDeprecationWarning: savefig() got unexpected keyword argument \"frameon\" which is no longer supported as of 3.3 and will become an error two minor releases later\n",
      "  plt.savefig(\"drum_{n:02d}.png\".format(n=i), transparent=True,  frameon=False)\n",
      "<ipython-input-23-45e5abcebc0a>:4: MatplotlibDeprecationWarning: savefig() got unexpected keyword argument \"frameon\" which is no longer supported as of 3.3 and will become an error two minor releases later\n",
      "  plt.savefig(\"drum_{n:02d}.png\".format(n=i), transparent=True,  frameon=False)\n"
     ]
    },
    {
     "name": "stdout",
     "output_type": "stream",
     "text": [
      "0\n",
      "1\n",
      "2\n"
     ]
    },
    {
     "name": "stderr",
     "output_type": "stream",
     "text": [
      "<ipython-input-23-45e5abcebc0a>:4: MatplotlibDeprecationWarning: savefig() got unexpected keyword argument \"frameon\" which is no longer supported as of 3.3 and will become an error two minor releases later\n",
      "  plt.savefig(\"drum_{n:02d}.png\".format(n=i), transparent=True,  frameon=False)\n",
      "<ipython-input-23-45e5abcebc0a>:4: MatplotlibDeprecationWarning: savefig() got unexpected keyword argument \"frameon\" which is no longer supported as of 3.3 and will become an error two minor releases later\n",
      "  plt.savefig(\"drum_{n:02d}.png\".format(n=i), transparent=True,  frameon=False)\n",
      "<ipython-input-23-45e5abcebc0a>:4: MatplotlibDeprecationWarning: savefig() got unexpected keyword argument \"frameon\" which is no longer supported as of 3.3 and will become an error two minor releases later\n",
      "  plt.savefig(\"drum_{n:02d}.png\".format(n=i), transparent=True,  frameon=False)\n",
      "<ipython-input-23-45e5abcebc0a>:4: MatplotlibDeprecationWarning: savefig() got unexpected keyword argument \"frameon\" which is no longer supported as of 3.3 and will become an error two minor releases later\n",
      "  plt.savefig(\"drum_{n:02d}.png\".format(n=i), transparent=True,  frameon=False)\n"
     ]
    },
    {
     "name": "stdout",
     "output_type": "stream",
     "text": [
      "3\n",
      "4\n",
      "5\n",
      "6\n"
     ]
    },
    {
     "name": "stderr",
     "output_type": "stream",
     "text": [
      "<ipython-input-23-45e5abcebc0a>:4: MatplotlibDeprecationWarning: savefig() got unexpected keyword argument \"frameon\" which is no longer supported as of 3.3 and will become an error two minor releases later\n",
      "  plt.savefig(\"drum_{n:02d}.png\".format(n=i), transparent=True,  frameon=False)\n",
      "<ipython-input-23-45e5abcebc0a>:4: MatplotlibDeprecationWarning: savefig() got unexpected keyword argument \"frameon\" which is no longer supported as of 3.3 and will become an error two minor releases later\n",
      "  plt.savefig(\"drum_{n:02d}.png\".format(n=i), transparent=True,  frameon=False)\n",
      "<ipython-input-23-45e5abcebc0a>:4: MatplotlibDeprecationWarning: savefig() got unexpected keyword argument \"frameon\" which is no longer supported as of 3.3 and will become an error two minor releases later\n",
      "  plt.savefig(\"drum_{n:02d}.png\".format(n=i), transparent=True,  frameon=False)\n",
      "<ipython-input-23-45e5abcebc0a>:4: MatplotlibDeprecationWarning: savefig() got unexpected keyword argument \"frameon\" which is no longer supported as of 3.3 and will become an error two minor releases later\n",
      "  plt.savefig(\"drum_{n:02d}.png\".format(n=i), transparent=True,  frameon=False)\n"
     ]
    },
    {
     "name": "stdout",
     "output_type": "stream",
     "text": [
      "7\n",
      "8\n",
      "9\n",
      "10\n"
     ]
    },
    {
     "name": "stderr",
     "output_type": "stream",
     "text": [
      "<ipython-input-23-45e5abcebc0a>:4: MatplotlibDeprecationWarning: savefig() got unexpected keyword argument \"frameon\" which is no longer supported as of 3.3 and will become an error two minor releases later\n",
      "  plt.savefig(\"drum_{n:02d}.png\".format(n=i), transparent=True,  frameon=False)\n",
      "<ipython-input-23-45e5abcebc0a>:4: MatplotlibDeprecationWarning: savefig() got unexpected keyword argument \"frameon\" which is no longer supported as of 3.3 and will become an error two minor releases later\n",
      "  plt.savefig(\"drum_{n:02d}.png\".format(n=i), transparent=True,  frameon=False)\n",
      "<ipython-input-23-45e5abcebc0a>:4: MatplotlibDeprecationWarning: savefig() got unexpected keyword argument \"frameon\" which is no longer supported as of 3.3 and will become an error two minor releases later\n",
      "  plt.savefig(\"drum_{n:02d}.png\".format(n=i), transparent=True,  frameon=False)\n"
     ]
    },
    {
     "name": "stdout",
     "output_type": "stream",
     "text": [
      "11\n",
      "12\n",
      "13\n"
     ]
    },
    {
     "name": "stderr",
     "output_type": "stream",
     "text": [
      "<ipython-input-23-45e5abcebc0a>:4: MatplotlibDeprecationWarning: savefig() got unexpected keyword argument \"frameon\" which is no longer supported as of 3.3 and will become an error two minor releases later\n",
      "  plt.savefig(\"drum_{n:02d}.png\".format(n=i), transparent=True,  frameon=False)\n",
      "<ipython-input-23-45e5abcebc0a>:4: MatplotlibDeprecationWarning: savefig() got unexpected keyword argument \"frameon\" which is no longer supported as of 3.3 and will become an error two minor releases later\n",
      "  plt.savefig(\"drum_{n:02d}.png\".format(n=i), transparent=True,  frameon=False)\n",
      "<ipython-input-23-45e5abcebc0a>:4: MatplotlibDeprecationWarning: savefig() got unexpected keyword argument \"frameon\" which is no longer supported as of 3.3 and will become an error two minor releases later\n",
      "  plt.savefig(\"drum_{n:02d}.png\".format(n=i), transparent=True,  frameon=False)\n"
     ]
    },
    {
     "name": "stdout",
     "output_type": "stream",
     "text": [
      "14\n",
      "15\n",
      "16\n"
     ]
    },
    {
     "name": "stderr",
     "output_type": "stream",
     "text": [
      "<ipython-input-23-45e5abcebc0a>:4: MatplotlibDeprecationWarning: savefig() got unexpected keyword argument \"frameon\" which is no longer supported as of 3.3 and will become an error two minor releases later\n",
      "  plt.savefig(\"drum_{n:02d}.png\".format(n=i), transparent=True,  frameon=False)\n",
      "<ipython-input-23-45e5abcebc0a>:4: MatplotlibDeprecationWarning: savefig() got unexpected keyword argument \"frameon\" which is no longer supported as of 3.3 and will become an error two minor releases later\n",
      "  plt.savefig(\"drum_{n:02d}.png\".format(n=i), transparent=True,  frameon=False)\n",
      "<ipython-input-23-45e5abcebc0a>:4: MatplotlibDeprecationWarning: savefig() got unexpected keyword argument \"frameon\" which is no longer supported as of 3.3 and will become an error two minor releases later\n",
      "  plt.savefig(\"drum_{n:02d}.png\".format(n=i), transparent=True,  frameon=False)\n",
      "<ipython-input-23-45e5abcebc0a>:4: MatplotlibDeprecationWarning: savefig() got unexpected keyword argument \"frameon\" which is no longer supported as of 3.3 and will become an error two minor releases later\n",
      "  plt.savefig(\"drum_{n:02d}.png\".format(n=i), transparent=True,  frameon=False)\n"
     ]
    },
    {
     "name": "stdout",
     "output_type": "stream",
     "text": [
      "17\n",
      "18\n",
      "19\n",
      "20\n",
      "21\n",
      "22\n",
      "23\n"
     ]
    },
    {
     "name": "stderr",
     "output_type": "stream",
     "text": [
      "<ipython-input-23-45e5abcebc0a>:4: MatplotlibDeprecationWarning: savefig() got unexpected keyword argument \"frameon\" which is no longer supported as of 3.3 and will become an error two minor releases later\n",
      "  plt.savefig(\"drum_{n:02d}.png\".format(n=i), transparent=True,  frameon=False)\n",
      "<ipython-input-23-45e5abcebc0a>:4: MatplotlibDeprecationWarning: savefig() got unexpected keyword argument \"frameon\" which is no longer supported as of 3.3 and will become an error two minor releases later\n",
      "  plt.savefig(\"drum_{n:02d}.png\".format(n=i), transparent=True,  frameon=False)\n",
      "<ipython-input-23-45e5abcebc0a>:4: MatplotlibDeprecationWarning: savefig() got unexpected keyword argument \"frameon\" which is no longer supported as of 3.3 and will become an error two minor releases later\n",
      "  plt.savefig(\"drum_{n:02d}.png\".format(n=i), transparent=True,  frameon=False)\n",
      "<ipython-input-23-45e5abcebc0a>:4: MatplotlibDeprecationWarning: savefig() got unexpected keyword argument \"frameon\" which is no longer supported as of 3.3 and will become an error two minor releases later\n",
      "  plt.savefig(\"drum_{n:02d}.png\".format(n=i), transparent=True,  frameon=False)\n"
     ]
    },
    {
     "name": "stdout",
     "output_type": "stream",
     "text": [
      "24\n",
      "25\n",
      "26\n"
     ]
    },
    {
     "name": "stderr",
     "output_type": "stream",
     "text": [
      "<ipython-input-23-45e5abcebc0a>:4: MatplotlibDeprecationWarning: savefig() got unexpected keyword argument \"frameon\" which is no longer supported as of 3.3 and will become an error two minor releases later\n",
      "  plt.savefig(\"drum_{n:02d}.png\".format(n=i), transparent=True,  frameon=False)\n",
      "<ipython-input-23-45e5abcebc0a>:4: MatplotlibDeprecationWarning: savefig() got unexpected keyword argument \"frameon\" which is no longer supported as of 3.3 and will become an error two minor releases later\n",
      "  plt.savefig(\"drum_{n:02d}.png\".format(n=i), transparent=True,  frameon=False)\n",
      "<ipython-input-23-45e5abcebc0a>:4: MatplotlibDeprecationWarning: savefig() got unexpected keyword argument \"frameon\" which is no longer supported as of 3.3 and will become an error two minor releases later\n",
      "  plt.savefig(\"drum_{n:02d}.png\".format(n=i), transparent=True,  frameon=False)\n"
     ]
    },
    {
     "name": "stdout",
     "output_type": "stream",
     "text": [
      "27\n",
      "28\n",
      "29\n"
     ]
    },
    {
     "name": "stderr",
     "output_type": "stream",
     "text": [
      "<ipython-input-23-45e5abcebc0a>:4: MatplotlibDeprecationWarning: savefig() got unexpected keyword argument \"frameon\" which is no longer supported as of 3.3 and will become an error two minor releases later\n",
      "  plt.savefig(\"drum_{n:02d}.png\".format(n=i), transparent=True,  frameon=False)\n",
      "<ipython-input-23-45e5abcebc0a>:4: MatplotlibDeprecationWarning: savefig() got unexpected keyword argument \"frameon\" which is no longer supported as of 3.3 and will become an error two minor releases later\n",
      "  plt.savefig(\"drum_{n:02d}.png\".format(n=i), transparent=True,  frameon=False)\n",
      "<ipython-input-23-45e5abcebc0a>:4: MatplotlibDeprecationWarning: savefig() got unexpected keyword argument \"frameon\" which is no longer supported as of 3.3 and will become an error two minor releases later\n",
      "  plt.savefig(\"drum_{n:02d}.png\".format(n=i), transparent=True,  frameon=False)\n"
     ]
    },
    {
     "name": "stdout",
     "output_type": "stream",
     "text": [
      "30\n",
      "31\n",
      "32\n"
     ]
    },
    {
     "name": "stderr",
     "output_type": "stream",
     "text": [
      "<ipython-input-23-45e5abcebc0a>:4: MatplotlibDeprecationWarning: savefig() got unexpected keyword argument \"frameon\" which is no longer supported as of 3.3 and will become an error two minor releases later\n",
      "  plt.savefig(\"drum_{n:02d}.png\".format(n=i), transparent=True,  frameon=False)\n",
      "<ipython-input-23-45e5abcebc0a>:4: MatplotlibDeprecationWarning: savefig() got unexpected keyword argument \"frameon\" which is no longer supported as of 3.3 and will become an error two minor releases later\n",
      "  plt.savefig(\"drum_{n:02d}.png\".format(n=i), transparent=True,  frameon=False)\n",
      "<ipython-input-23-45e5abcebc0a>:4: MatplotlibDeprecationWarning: savefig() got unexpected keyword argument \"frameon\" which is no longer supported as of 3.3 and will become an error two minor releases later\n",
      "  plt.savefig(\"drum_{n:02d}.png\".format(n=i), transparent=True,  frameon=False)\n"
     ]
    },
    {
     "name": "stdout",
     "output_type": "stream",
     "text": [
      "33\n",
      "34\n",
      "35\n"
     ]
    },
    {
     "name": "stderr",
     "output_type": "stream",
     "text": [
      "<ipython-input-23-45e5abcebc0a>:4: MatplotlibDeprecationWarning: savefig() got unexpected keyword argument \"frameon\" which is no longer supported as of 3.3 and will become an error two minor releases later\n",
      "  plt.savefig(\"drum_{n:02d}.png\".format(n=i), transparent=True,  frameon=False)\n",
      "<ipython-input-23-45e5abcebc0a>:4: MatplotlibDeprecationWarning: savefig() got unexpected keyword argument \"frameon\" which is no longer supported as of 3.3 and will become an error two minor releases later\n",
      "  plt.savefig(\"drum_{n:02d}.png\".format(n=i), transparent=True,  frameon=False)\n",
      "<ipython-input-23-45e5abcebc0a>:4: MatplotlibDeprecationWarning: savefig() got unexpected keyword argument \"frameon\" which is no longer supported as of 3.3 and will become an error two minor releases later\n",
      "  plt.savefig(\"drum_{n:02d}.png\".format(n=i), transparent=True,  frameon=False)\n"
     ]
    },
    {
     "name": "stdout",
     "output_type": "stream",
     "text": [
      "36\n",
      "37\n",
      "38\n"
     ]
    },
    {
     "name": "stderr",
     "output_type": "stream",
     "text": [
      "<ipython-input-23-45e5abcebc0a>:4: MatplotlibDeprecationWarning: savefig() got unexpected keyword argument \"frameon\" which is no longer supported as of 3.3 and will become an error two minor releases later\n",
      "  plt.savefig(\"drum_{n:02d}.png\".format(n=i), transparent=True,  frameon=False)\n",
      "<ipython-input-23-45e5abcebc0a>:4: MatplotlibDeprecationWarning: savefig() got unexpected keyword argument \"frameon\" which is no longer supported as of 3.3 and will become an error two minor releases later\n",
      "  plt.savefig(\"drum_{n:02d}.png\".format(n=i), transparent=True,  frameon=False)\n",
      "<ipython-input-23-45e5abcebc0a>:4: MatplotlibDeprecationWarning: savefig() got unexpected keyword argument \"frameon\" which is no longer supported as of 3.3 and will become an error two minor releases later\n",
      "  plt.savefig(\"drum_{n:02d}.png\".format(n=i), transparent=True,  frameon=False)\n"
     ]
    },
    {
     "name": "stdout",
     "output_type": "stream",
     "text": [
      "39\n",
      "40\n",
      "41\n",
      "42\n"
     ]
    },
    {
     "name": "stderr",
     "output_type": "stream",
     "text": [
      "<ipython-input-23-45e5abcebc0a>:4: MatplotlibDeprecationWarning: savefig() got unexpected keyword argument \"frameon\" which is no longer supported as of 3.3 and will become an error two minor releases later\n",
      "  plt.savefig(\"drum_{n:02d}.png\".format(n=i), transparent=True,  frameon=False)\n",
      "<ipython-input-23-45e5abcebc0a>:4: MatplotlibDeprecationWarning: savefig() got unexpected keyword argument \"frameon\" which is no longer supported as of 3.3 and will become an error two minor releases later\n",
      "  plt.savefig(\"drum_{n:02d}.png\".format(n=i), transparent=True,  frameon=False)\n",
      "<ipython-input-23-45e5abcebc0a>:4: MatplotlibDeprecationWarning: savefig() got unexpected keyword argument \"frameon\" which is no longer supported as of 3.3 and will become an error two minor releases later\n",
      "  plt.savefig(\"drum_{n:02d}.png\".format(n=i), transparent=True,  frameon=False)\n",
      "<ipython-input-23-45e5abcebc0a>:4: MatplotlibDeprecationWarning: savefig() got unexpected keyword argument \"frameon\" which is no longer supported as of 3.3 and will become an error two minor releases later\n",
      "  plt.savefig(\"drum_{n:02d}.png\".format(n=i), transparent=True,  frameon=False)\n"
     ]
    },
    {
     "name": "stdout",
     "output_type": "stream",
     "text": [
      "43\n",
      "44\n",
      "45\n",
      "46\n"
     ]
    },
    {
     "name": "stderr",
     "output_type": "stream",
     "text": [
      "<ipython-input-23-45e5abcebc0a>:4: MatplotlibDeprecationWarning: savefig() got unexpected keyword argument \"frameon\" which is no longer supported as of 3.3 and will become an error two minor releases later\n",
      "  plt.savefig(\"drum_{n:02d}.png\".format(n=i), transparent=True,  frameon=False)\n",
      "<ipython-input-23-45e5abcebc0a>:4: MatplotlibDeprecationWarning: savefig() got unexpected keyword argument \"frameon\" which is no longer supported as of 3.3 and will become an error two minor releases later\n",
      "  plt.savefig(\"drum_{n:02d}.png\".format(n=i), transparent=True,  frameon=False)\n",
      "<ipython-input-23-45e5abcebc0a>:4: MatplotlibDeprecationWarning: savefig() got unexpected keyword argument \"frameon\" which is no longer supported as of 3.3 and will become an error two minor releases later\n",
      "  plt.savefig(\"drum_{n:02d}.png\".format(n=i), transparent=True,  frameon=False)\n",
      "<ipython-input-23-45e5abcebc0a>:4: MatplotlibDeprecationWarning: savefig() got unexpected keyword argument \"frameon\" which is no longer supported as of 3.3 and will become an error two minor releases later\n",
      "  plt.savefig(\"drum_{n:02d}.png\".format(n=i), transparent=True,  frameon=False)\n"
     ]
    },
    {
     "name": "stdout",
     "output_type": "stream",
     "text": [
      "47\n",
      "48\n",
      "49\n",
      "\n",
      "done\n"
     ]
    },
    {
     "name": "stderr",
     "output_type": "stream",
     "text": [
      "<ipython-input-23-45e5abcebc0a>:4: MatplotlibDeprecationWarning: savefig() got unexpected keyword argument \"frameon\" which is no longer supported as of 3.3 and will become an error two minor releases later\n",
      "  plt.savefig(\"drum_{n:02d}.png\".format(n=i), transparent=True,  frameon=False)\n",
      "<ipython-input-23-45e5abcebc0a>:4: MatplotlibDeprecationWarning: savefig() got unexpected keyword argument \"frameon\" which is no longer supported as of 3.3 and will become an error two minor releases later\n",
      "  plt.savefig(\"drum_{n:02d}.png\".format(n=i), transparent=True,  frameon=False)\n"
     ]
    },
    {
     "data": {
      "image/png": "[encoded data removed]",
      "text/plain": [
       "<Figure size 432x288 with 1 Axes>"
      ]
     },
     "metadata": {
      "needs_background": "light"
     },
     "output_type": "display_data"
    }
   ],
   "source": [
    "import subprocess\n",
    "for i in range(50):\n",
    "    buildmebarchart(i)\n",
    "    plt.savefig(\"drum_{n:02d}.png\".format(n=i), transparent=True,  frameon=False)\n",
    "    print(i) \n",
    "\n",
    "args = [\"./\", \"-delay\", \"10\", \"-loop\" , \"0\", \"-dispose\", \"Background\", \"drum_*.png\", \"output.gif\"]\n",
    "subprocess.call(args, shell=True)\n",
    "subprocess.call([\"del\", \"/Q\", \"drum_*.png\"], shell=True)\n",
    "print(\"\\ndone\")\n"
   ]
  },
  {
   "cell_type": "code",
   "execution_count": 8,
   "metadata": {},
   "outputs": [],
   "source": [
    "import cv2\n",
    "import matplotlib.pyplot as plt\n",
    "import numpy as np\n",
    "\n",
    "filename = 'SampleVideo.mp4'\n",
    "cap = cv2.VideoCapture(filename)\n"
   ]
  },
  {
   "cell_type": "code",
   "execution_count": 9,
   "metadata": {},
   "outputs": [
    {
     "data": {
      "image/png": "[encoded data removed]",
      "text/plain": [
       "<Figure size 432x288 with 1 Axes>"
      ]
     },
     "metadata": {
      "needs_background": "light"
     },
     "output_type": "display_data"
    }
   ],
   "source": [
    "frames = int(cap.get(cv2.CAP_PROP_FRAME_COUNT))\n",
    "width  = int(cap.get(cv2.CAP_PROP_FRAME_WIDTH))\n",
    "height = int(cap.get(cv2.CAP_PROP_FRAME_HEIGHT))\n",
    "\n",
    "fig, ax = plt.subplots(1,1)\n",
    "plt.ion()\n",
    "plt.show()\n",
    "\n",
    "#Setup a dummy path\n",
    "x = np.linspace(0,width,frames)\n",
    "y = x/2. + 100*np.sin(2.*np.pi*x/1200)\n",
    "\n",
    "for i in range(frames):\n",
    "    fig.clf()\n",
    "    flag, frame = cap.read()\n",
    "\n",
    "    plt.imshow(frame)\n",
    "    \n",
    "    plt.plot(x,y,'k-', lw=2)\n",
    "    plt.plot(x[i],y[i],'or')\n",
    "\n",
    "    if cv2.waitKey(1) == 27:\n",
    "        break"
   ]
  },
  {
   "cell_type": "code",
   "execution_count": null,
   "metadata": {},
   "outputs": [],
   "source": []
  },
  {
   "cell_type": "code",
   "execution_count": null,
   "metadata": {},
   "outputs": [],
   "source": []
  },
  {
   "cell_type": "code",
   "execution_count": null,
   "metadata": {},
   "outputs": [],
   "source": []
  }
 ],
 "metadata": {
  "kernelspec": {
   "display_name": "Python 3",
   "language": "python",
   "name": "python3"
  },
  "language_info": {
   "codemirror_mode": {
    "name": "ipython",
    "version": 3
   },
   "file_extension": ".py",
   "mimetype": "text/x-python",
   "name": "python",
   "nbconvert_exporter": "python",
   "pygments_lexer": "ipython3",
   "version": "3.8.5"
  }
 },
 "nbformat": 4,
 "nbformat_minor": 2
}
